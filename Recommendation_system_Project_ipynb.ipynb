{
  "nbformat": 4,
  "nbformat_minor": 0,
  "metadata": {
    "colab": {
      "provenance": [],
      "authorship_tag": "ABX9TyO/wLO/HU4qe8erGifIfeH+",
      "include_colab_link": true
    },
    "kernelspec": {
      "name": "python3",
      "display_name": "Python 3"
    },
    "language_info": {
      "name": "python"
    }
  },
  "cells": [
    {
      "cell_type": "markdown",
      "metadata": {
        "id": "view-in-github",
        "colab_type": "text"
      },
      "source": [
        "<a href=\"https://colab.research.google.com/github/Pravallika-02-datascience/Recommendation-System-Project/blob/main/Recommendation_system_Project_ipynb.ipynb\" target=\"_parent\"><img src=\"https://colab.research.google.com/assets/colab-badge.svg\" alt=\"Open In Colab\"/></a>"
      ]
    },
    {
      "cell_type": "code",
      "execution_count": null,
      "metadata": {
        "id": "LC_l2WK9os4S"
      },
      "outputs": [],
      "source": []
    },
    {
      "cell_type": "code",
      "source": [
        "# ---------------------------------------------------------------\n",
        "# Anime Recommendation System • Cosine‑Similarity Approach\n",
        "# ---------------------------------------------------------------\n",
        "# One‑time installs (uncomment if needed):\n",
        "# !pip install pandas numpy scikit-learn\n",
        "\n",
        "import pandas as pd\n",
        "import numpy as np\n",
        "from sklearn.feature_extraction.text import CountVectorizer\n",
        "from sklearn.preprocessing import StandardScaler, OneHotEncoder\n",
        "from sklearn.compose import ColumnTransformer\n",
        "from sklearn.pipeline import Pipeline\n",
        "from sklearn.metrics.pairwise import cosine_similarity\n",
        "from sklearn.metrics import precision_score, recall_score, f1_score\n",
        "from sklearn.model_selection import train_test_split\n",
        "\n",
        "# -------------------------------------------------\n",
        "# 1. LOAD & CLEAN DATA\n",
        "# -------------------------------------------------\n",
        "df = pd.read_csv(\"anime.csv\")        # path inside the unzipped folder\n",
        "\n",
        "# Replace 'Unknown' episode counts with NaN, convert to float\n",
        "df[\"episodes\"] = pd.to_numeric(df[\"episodes\"].replace(\"Unknown\", np.nan), errors=\"coerce\")\n",
        "\n",
        "# Drop rows lacking critical info\n",
        "df = df.dropna(subset=[\"genre\", \"type\", \"rating\", \"episodes\"]).reset_index(drop=True)\n",
        "\n",
        "print(\"Cleaned dataset size:\", df.shape)\n",
        "\n",
        "# -------------------------------------------------\n",
        "# 2. FEATURE EXTRACTION\n",
        "# -------------------------------------------------\n",
        "# (a)  CountVectorizer turns comma‑separated genres into binary bag‑of‑words\n",
        "genre_vect = CountVectorizer(tokenizer=lambda x: x.split(\", \"), binary=True)\n",
        "\n",
        "# (b)  One‑hot encode the broadcast 'type' (TV, OVA, …)\n",
        "type_enc   = OneHotEncoder(drop=\"first\")\n",
        "\n",
        "# (c)  Numeric attributes  (episodes, rating, members) – z‑score scaled\n",
        "num_cols   = [\"episodes\", \"rating\", \"members\"]\n",
        "num_scale  = StandardScaler()\n",
        "\n",
        "# ColumnTransformer glues everything together\n",
        "preprocess = ColumnTransformer(\n",
        "    transformers=[\n",
        "        (\"genre\", genre_vect, \"genre\"),\n",
        "        (\"type\",  type_enc,   [\"type\"]),\n",
        "        (\"num\",   num_scale,  num_cols)\n",
        "    ],\n",
        "    remainder=\"drop\"\n",
        ")\n",
        "\n",
        "# Fit–transform to get the final feature matrix\n",
        "feature_matrix = preprocess.fit_transform(df)\n",
        "\n",
        "print(\"Feature matrix shape:\", feature_matrix.shape)\n",
        "\n",
        "# -------------------------------------------------\n",
        "# 3. COSINE‑SIMILARITY MATRIX\n",
        "# -------------------------------------------------\n",
        "# Cosine similarity for every anime vs every other anime\n",
        "sim_matrix = cosine_similarity(feature_matrix)\n",
        "\n",
        "# -------------------------------------------------\n",
        "# 4. RECOMMENDATION FUNCTION\n",
        "# -------------------------------------------------\n",
        "def recommend(anime_title, top_n=10, min_sim=0.2):\n",
        "    \"\"\"\n",
        "    Return up to `top_n` anime similar to `anime_title`,\n",
        "    filtered by a minimum cosine similarity.\n",
        "    \"\"\"\n",
        "    if anime_title not in df[\"name\"].values:\n",
        "        raise ValueError(\"Anime title not found!\")\n",
        "\n",
        "    idx  = df.index[df[\"name\"] == anime_title][0]\n",
        "    sims = list(enumerate(sim_matrix[idx]))\n",
        "\n",
        "    # Sort by similarity (ignore the anime itself at index idx)\n",
        "    sims = sorted(sims, key=lambda x: x[1], reverse=True)\n",
        "    sims = [(i, s) for i, s in sims if i != idx and s >= min_sim][:top_n]\n",
        "\n",
        "    recs = df.iloc[[i for i, _ in sims]][[\"name\", \"genre\", \"rating\"]].copy()\n",
        "    recs[\"similarity\"] = [s for _, s in sims]\n",
        "    return recs.reset_index(drop=True)\n",
        "\n",
        "# Quick sanity check\n",
        "print(\"\\nSample recommendations for 'Naruto':\")\n",
        "print(recommend(\"Naruto\").head())\n",
        "\n",
        "# -------------------------------------------------\n",
        "# 5. SIMPLE TRAIN/TEST EVALUATION\n",
        "# -------------------------------------------------\n",
        "# Idea: Hold‑out 20 % of titles; for each test title, ask if\n",
        "# at least **one** of its true  “Type” peers appears in top‑k\n",
        "# recommendations → compute Precision/Recall/F1 at k.\n",
        "\n",
        "train_df, test_df = train_test_split(df, test_size=0.2, random_state=42, stratify=df[\"type\"])\n",
        "\n",
        "def relevant_set(row, pool):\n",
        "    \"\"\"Return indices of anime in `pool` that share the same broadcast type.\"\"\"\n",
        "    return pool.index[pool[\"type\"] == row[\"type\"]].tolist()\n",
        "\n",
        "k = 10\n",
        "y_true, y_pred = [], []\n",
        "\n",
        "for _, test_row in test_df.iterrows():\n",
        "    idx_test = df.index[df[\"name\"] == test_row[\"name\"]][0]\n",
        "    rec_indices = (\n",
        "        np.argsort(sim_matrix[idx_test])[::-1]   # descending\n",
        "        .tolist()\n",
        "    )\n",
        "\n",
        "    rec_indices = [i for i in rec_indices if i != idx_test][:k]\n",
        "    predicted_relevant = set(rec_indices)\n",
        "\n",
        "    actual_relevant = set(relevant_set(test_row, train_df))\n",
        "\n",
        "    # For Precision/Recall calculation: label 1 if any overlap, else 0\n",
        "    y_true.append(1)\n",
        "    y_pred.append(1 if predicted_relevant & actual_relevant else 0)\n",
        "\n",
        "precision = precision_score(y_true, y_pred)\n",
        "recall    = recall_score(y_true, y_pred)\n",
        "f1        = f1_score(y_true, y_pred)\n",
        "\n",
        "print(f\"\\nEvaluation @k={k}\")\n",
        "print(f\" Precision: {precision:.3f}\")\n",
        "print(f\" Recall   : {recall:.3f}\")\n",
        "print(f\" F1‑score : {f1:.3f}\")\n",
        "\n",
        "# -------------------------------------------------\n",
        "# 6. USAGE EXAMPLE\n",
        "# -------------------------------------------------\n",
        "\"\"\"\n",
        ">>> from anime_recommender import recommend\n",
        ">>> recommend(\"Fullmetal Alchemist: Brotherhood\", top_n=5)\n",
        "\"\"\"\n",
        "\n",
        "# End of script\n"
      ],
      "metadata": {
        "colab": {
          "base_uri": "https://localhost:8080/",
          "height": 509
        },
        "id": "KXVnmZlXpMjo",
        "outputId": "a9d48208-2c24-47ed-a806-9374616e4128"
      },
      "execution_count": null,
      "outputs": [
        {
          "output_type": "stream",
          "name": "stdout",
          "text": [
            "Cleaned dataset size: (11830, 7)\n"
          ]
        },
        {
          "output_type": "stream",
          "name": "stderr",
          "text": [
            "/usr/local/lib/python3.11/dist-packages/sklearn/feature_extraction/text.py:517: UserWarning: The parameter 'token_pattern' will not be used since 'tokenizer' is not None'\n",
            "  warnings.warn(\n"
          ]
        },
        {
          "output_type": "stream",
          "name": "stdout",
          "text": [
            "Feature matrix shape: (11830, 51)\n",
            "\n",
            "Sample recommendations for 'Naruto':\n",
            "                     name                                              genre  \\\n",
            "0              Fairy Tail  Action, Adventure, Comedy, Fantasy, Magic, Sho...   \n",
            "1                  Bleach  Action, Comedy, Shounen, Super Power, Supernat...   \n",
            "2  Hunter x Hunter (2011)            Action, Adventure, Shounen, Super Power   \n",
            "3              D.Gray-man                 Action, Adventure, Comedy, Shounen   \n",
            "4              Soul Eater  Action, Adventure, Comedy, Fantasy, Shounen, S...   \n",
            "\n",
            "   rating  similarity  \n",
            "0    8.22    0.980142  \n",
            "1    7.95    0.964667  \n",
            "2    9.13    0.961851  \n",
            "3    8.20    0.957116  \n",
            "4    8.08    0.944704  \n",
            "\n",
            "Evaluation @k=10\n",
            " Precision: 1.000\n",
            " Recall   : 0.997\n",
            " F1‑score : 0.998\n"
          ]
        },
        {
          "output_type": "execute_result",
          "data": {
            "text/plain": [
              "'\\n>>> from anime_recommender import recommend\\n>>> recommend(\"Fullmetal Alchemist: Brotherhood\", top_n=5)\\n'"
            ],
            "application/vnd.google.colaboratory.intrinsic+json": {
              "type": "string"
            }
          },
          "metadata": {},
          "execution_count": 1
        }
      ]
    }
  ]
}